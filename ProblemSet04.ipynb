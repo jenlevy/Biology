{
 "cells": [
  {
   "cell_type": "markdown",
   "metadata": {
    "section": "header"
   },
   "source": [
    "---\n",
    "<div style=\"text-align: center;\">\n",
    "<h1>The University of North Carolina at Chapel Hill</h1>\n",
    "<h1>Comp 555 BioAlgorithms - Spring 2022</h1>\n",
    "<h1 style=\"font-size: 250%;\">Problem Set #4</h1>\n",
    "<h1>Issued Thursday, 3/10/2022; Due Thursday, 3/24/2022</h1>\n",
    "</div>\n",
    "\n",
    "**Homework Information:** Some of the problems are probably too long to be done the night before the due date, so plan accordingly. Feel free to get help from others, but **the work you submit in should be your own.** Furthermore, this assignment may end up overlapping Problem Set #5, so plan accordingly. \n",
    "\n",
    "**Warning:** This notebook has been annotated with metadata so that it can be uploaded to the grading system. It is very important that you enter your answers in the provided cells. You can add extra cells to explore approaches, but only the provided cell can and will be graded. Thus, if you delete a cell and add a replacement, there is a possiblity that your problem will not be graded. If you ever need to start over, you should download a new version of the problem set and transfer your solutions to it."
   ]
  },
  {
   "cell_type": "code",
   "execution_count": 1,
   "metadata": {
    "section": "signature"
   },
   "outputs": [],
   "source": [
    "# Replace the following string values with the requested information\n",
    "class Student:\n",
    "    first = \"Jenna\"\n",
    "    last = \"Levy\"\n",
    "    onyen = \"jenlevy\"\n",
    "    pid = \"730280089\""
   ]
  },
  {
   "cell_type": "markdown",
   "metadata": {},
   "source": [
    "The following problems make use of the following Insulin protein sequences"
   ]
  },
  {
   "cell_type": "code",
   "execution_count": 2,
   "metadata": {},
   "outputs": [],
   "source": [
    "human = \"MALWMRLLPLLALLALWGPDPAAAFVNQHLCGSHLVEALYLVCGERGFFYTPKTRREAEDLQGSLQPLALEGSLQKRGIVEQCCTSICSLYQLENYCN\"\n",
    "pig = \"MALWTRLLPLLALLALWAPAPAQAFVNQHLCGSHLVEALYLVCGERGFFYTPKARREAENPQAGAVELGGGLGGLQALALEGPPQKRGIVEQCCTSICSLYQLENYCN\""
   ]
  },
  {
   "cell_type": "code",
   "execution_count": 10,
   "metadata": {},
   "outputs": [
    {
     "name": "stdout",
     "output_type": "stream",
     "text": [
      "MALWRLLPLLALLALWPAAAFVNQHLCGSHLVEALYLVCGERGFFYTPKRREAEQGLQLALEGQKRGIVEQCCTSICSLYQLENYCN\n",
      "87\n",
      "v = MALWM_RLLPLLALLALWGPD_PA_A_AFVNQHLCGSHLVEALYLVCGERGFFYTPKT_RREAEDL__Q_GS__________LQP_LALEGSL__QKRGIVEQCCTSICSLYQLENYCN\n",
      "w = MALW_TRLLPLLALLALW___APAPAQAFVNQHLCGSHLVEALYLVCGERGFFYTPK_ARREAE__NPQAG_AVELGGGLGGLQ_ALALEG__PPQKRGIVEQCCTSICSLYQLENYCN\n"
     ]
    }
   ],
   "source": [
    "from numpy import *\n",
    "\n",
    "v = \"MALWMRLLPLLALLALWGPDPAAAFVNQHLCGSHLVEALYLVCGERGFFYTPKTRREAEDLQGSLQPLALEGSLQKRGIVEQCCTSICSLYQLENYCN\"\n",
    "w = \"MALWTRLLPLLALLALWAPAPAQAFVNQHLCGSHLVEALYLVCGERGFFYTPKARREAENPQAGAVELGGGLGGLQALALEGPPQKRGIVEQCCTSICSLYQLENYCN\"\n",
    "\n",
    "def findLCS(v, w):\n",
    "    score = zeros((len(v)+1,len(w)+1), dtype=\"int32\")\n",
    "    backt = zeros((len(v)+1,len(w)+1), dtype=\"int32\")\n",
    "    for i in range(1,len(v)+1):\n",
    "        for j in range(1,len(w)+1):\n",
    "            # find best score at each vertex\n",
    "            if (v[i-1] == w[j-1]):  # test for a match (\"diagonal street\")\n",
    "                score[i,j], backt[i,j] = max((score[i-1,j-1]+1,3), (score[i-1,j],1), (score[i,j-1],2))\n",
    "            else:\n",
    "                score[i,j], backt[i,j] = max((score[i-1,j],1), (score[i,j-1],2))\n",
    "    return score, backt\n",
    "\n",
    "s, b = findLCS(human, pig)\n",
    "\n",
    "def LCS(b,v,i,j):\n",
    "    if ((i == 0) and (j == 0)):\n",
    "        return ''\n",
    "    elif (b[i,j] == 3):\n",
    "        return LCS(b,v,i-1,j-1) + v[i-1]\n",
    "    elif (b[i,j] == 2):\n",
    "        return LCS(b,v,i,j-1)\n",
    "    else:\n",
    "        return LCS(b,v,i-1,j)\n",
    "        \n",
    "print(LCS(b,v,b.shape[0]-1,b.shape[1]-1))\n",
    "\n",
    "x = LCS(b,v,b.shape[0]-1,b.shape[1]-1)\n",
    "print(len(x))\n",
    "\n",
    "def Alignment(b,v,w,i,j):\n",
    "    if ((i == 0) and (j == 0)):\n",
    "        return ['','']\n",
    "    if (b[i,j] == 3):\n",
    "        result = Alignment(b,v,w,i-1,j-1)\n",
    "        result[0] += v[i-1]\n",
    "        result[1] += w[j-1]\n",
    "        return result\n",
    "    if (b[i,j] == 2):\n",
    "        result = Alignment(b,v,w,i,j-1)\n",
    "        result[0] += \"_\"\n",
    "        result[1] += w[j-1]\n",
    "        return result\n",
    "    if (b[i,j] == 1):\n",
    "        result = Alignment(b,v,w,i-1,j)\n",
    "        result[0] += v[i-1]\n",
    "        result[1] += \"_\"\n",
    "        return result\n",
    "\n",
    "align = Alignment(b,v,w,b.shape[0]-1,b.shape[1]-1)\n",
    "print(\"v =\", align[0])\n",
    "print(\"w =\", align[1])\n"
   ]
  },
  {
   "cell_type": "markdown",
   "metadata": {
    "number": 1,
    "section": "problem"
   },
   "source": [
    "---\n",
    "**Problem #1:** Find the longest common subsequence (LCS) shared between human and pig insulin, its length, and the alignment that it implies."
   ]
  },
  {
   "cell_type": "raw",
   "metadata": {
    "number": 1,
    "section": "answer"
   },
   "source": [
    "Longest Common Subsequence: MALWRLLPLLALLALWPAAAFVNQHLCGSHLVEALYLVCGERGFFYTPKRREAEQGLQLALEGQKRGIVEQCCTSICSLYQLENYCN\n",
    "Length of LCS: 87\n",
    "Give your alignment below in the format shown:\n",
    "human: MALWM_RLLPLLALLALWGPD_PA_A_AFVNQHLCGSHLVEALYLVCGERGFFYTPKT_RREAEDL__Q_GS__________LQP_LALEGSL__QKRGIVEQCCTSICSLYQLENYCN\n",
    "  pig: MALW_TRLLPLLALLALW___APAPAQAFVNQHLCGSHLVEALYLVCGERGFFYTPK_ARREAE__NPQAG_AVELGGGLGGLQ_ALALEG__PPQKRGIVEQCCTSICSLYQLENYCN"
   ]
  },
  {
   "cell_type": "code",
   "execution_count": 19,
   "metadata": {},
   "outputs": [
    {
     "name": "stdout",
     "output_type": "stream",
     "text": [
      "[[   0   -1   -2 ... -106 -107 -108]\n",
      " [  -1    1    0 ... -104 -105 -106]\n",
      " [  -2    0    2 ... -102 -103 -104]\n",
      " ...\n",
      " [ -96  -94  -92 ...   75   74   73]\n",
      " [ -97  -95  -93 ...   74   76   75]\n",
      " [ -98  -96  -94 ...   73   75   77]]\n",
      "Best score = 77\n",
      "[[0 2 2 ... 2 2 2]\n",
      " [1 3 2 ... 2 2 2]\n",
      " [1 1 3 ... 2 2 2]\n",
      " ...\n",
      " [1 1 1 ... 3 2 2]\n",
      " [1 1 1 ... 1 3 2]\n",
      " [1 1 1 ... 1 1 3]]\n",
      "human = MALWMRLLPLLALLALWGPDPAAAFVNQHLCGSHLVEALYLVCGERGFFYTPKTRREAEDLQ_GS__L_______QPLALEGSLQKRGIVEQCCTSICSLYQLENYCN\n",
      "pig   = MALWTRLLPLLALLALWAPAPAQAFVNQHLCGSHLVEALYLVCGERGFFYTPKARREAENPQAGAVELGGGLGGLQALALEGPPQKRGIVEQCCTSICSLYQLENYCN\n"
     ]
    }
   ],
   "source": [
    "import numpy\n",
    "\n",
    "def GlobalAlign(v, w, match, indel):\n",
    "    s = numpy.zeros((len(v)+1,len(w)+1), dtype=\"int32\")\n",
    "    b = numpy.zeros((len(v)+1,len(w)+1), dtype=\"int32\")\n",
    "    for i in range(0,len(v)+1):\n",
    "        for j in range(0,len(w)+1):\n",
    "            if (j == 0):\n",
    "                if (i > 0):\n",
    "                    s[i,j] = s[i-1,j] + indel\n",
    "                    b[i,j] = 1\n",
    "                continue\n",
    "            if (i == 0):\n",
    "                s[i,j] = s[i,j-1] + indel\n",
    "                b[i,j] = 2\n",
    "                continue\n",
    "            if (v[i-1] == w[j-1]): \n",
    "                score = s[i-1,j-1] + match\n",
    "            else:\n",
    "                score = s[i-1,j-1] \n",
    "            vskip = s[i-1,j] + indel\n",
    "            wskip = s[i,j-1] + indel\n",
    "            s[i,j] = max(vskip, wskip, score)\n",
    "            if (s[i,j] == vskip):\n",
    "                b[i,j] = 1\n",
    "            elif (s[i,j] == wskip):\n",
    "                b[i,j] = 2\n",
    "            else:\n",
    "                b[i,j] = 3\n",
    "    return (s, b)\n",
    "\n",
    "def Alignment(b,v,w,i,j):\n",
    "    if ((i == 0) and (j == 0)):\n",
    "        return ['','']\n",
    "    if (b[i,j] == 3):\n",
    "        result = Alignment(b,v,w,i-1,j-1)\n",
    "        result[0] += v[i-1]\n",
    "        result[1] += w[j-1]\n",
    "        return result\n",
    "    if (b[i,j] == 2):\n",
    "        result = Alignment(b,v,w,i,j-1)\n",
    "        result[0] += \"_\"\n",
    "        result[1] += w[j-1]\n",
    "        return result\n",
    "    if (b[i,j] == 1):\n",
    "        result = Alignment(b,v,w,i-1,j)\n",
    "        result[0] += v[i-1]\n",
    "        result[1] += \"_\"\n",
    "        return result\n",
    "\n",
    "\n",
    "\n",
    "human = \"MALWMRLLPLLALLALWGPDPAAAFVNQHLCGSHLVEALYLVCGERGFFYTPKTRREAEDLQGSLQPLALEGSLQKRGIVEQCCTSICSLYQLENYCN\"\n",
    "pig = \"MALWTRLLPLLALLALWAPAPAQAFVNQHLCGSHLVEALYLVCGERGFFYTPKARREAENPQAGAVELGGGLGGLQALALEGPPQKRGIVEQCCTSICSLYQLENYCN\"\n",
    "\n",
    "s, b = GlobalAlign(human,pig, 1, -1)\n",
    "print(s)\n",
    "print(\"Best score =\", s[-1,-1])\n",
    "print(b)\n",
    "align = Alignment(b,human,pig,b.shape[0]-1,b.shape[1]-1)\n",
    "print(\"human =\", align[0])\n",
    "print(\"pig   =\", align[1])\n",
    "\n",
    "\n"
   ]
  },
  {
   "cell_type": "markdown",
   "metadata": {
    "number": 2,
    "section": "problem"
   },
   "source": [
    "---\n",
    "**Problem #2:** Find an optimal *global alignment* between human and pig insulin assuming the following scoring from the \"Alignment Game\" described in Lecture 15, slide 4:\n",
    "\n",
    "* +1 for a match\n",
    "* 0 for a mismatch\n",
    "* -1 for an indel\n",
    "\n",
    "What is score for this alignment and the alignment itself? "
   ]
  },
  {
   "cell_type": "raw",
   "metadata": {
    "number": 2,
    "section": "answer"
   },
   "source": [
    "Alignment score: 77\n",
    "Give your alignment below in the format shown:\n",
    "human: MALWMRLLPLLALLALWGPDPAAAFVNQHLCGSHLVEALYLVCGERGFFYTPKTRREAEDLQ_GS__L_______QPLALEGSLQKRGIVEQCCTSICSLYQLENYCN\n",
    "  dog: MALWTRLLPLLALLALWAPAPAQAFVNQHLCGSHLVEALYLVCGERGFFYTPKARREAENPQAGAVELGGGLGGLQALALEGPPQKRGIVEQCCTSICSLYQLENYCN"
   ]
  },
  {
   "cell_type": "code",
   "execution_count": 28,
   "metadata": {},
   "outputs": [
    {
     "name": "stdout",
     "output_type": "stream",
     "text": [
      "MALWRLLPLLALLALWPAAAFVNQHLCGSHLVEALYLVCGERGFFYTPKRREAEQGLQLALEGQKRGIVEQCCTSICSLYQLENYCN\n",
      "87\n",
      "v = MALWM_RLLPLLALLALWGPD_PA_A_AFVNQHLCGSHLVEALYLVCGERGFFYTPKT_RREAEDL__Q_GS__________LQP_LALEGSL__QKRGIVEQCCTSICSLYQLENYCN\n",
      "w = MALW_TRLLPLLALLALW___APAPAQAFVNQHLCGSHLVEALYLVCGERGFFYTPK_ARREAE__NPQAG_AVELGGGLGGLQ_ALALEG__PPQKRGIVEQCCTSICSLYQLENYCN\n",
      "[[   0   -1   -2 ... -117 -118 -119]\n",
      " [  -1    1    0 ... -115 -116 -117]\n",
      " [  -2    0    2 ... -113 -114 -115]\n",
      " ...\n",
      " [-117 -115 -113 ...   48   47   46]\n",
      " [-118 -116 -114 ...   47   49   48]\n",
      " [-119 -117 -115 ...   46   48   50]]\n",
      "Best score = 50\n",
      "[[0 2 2 ... 2 2 2]\n",
      " [1 3 2 ... 2 2 2]\n",
      " [1 1 3 ... 2 2 2]\n",
      " ...\n",
      " [1 1 1 ... 3 2 2]\n",
      " [1 1 1 ... 1 3 2]\n",
      " [1 1 1 ... 1 1 3]]\n",
      "-1411034\n"
     ]
    }
   ],
   "source": [
    "from numpy import *\n",
    "\n",
    "v = \"MALWMRLLPLLALLALWGPDPAAAFVNQHLCGSHLVEALYLVCGERGFFYTPKTRREAEDLQGSLQPLALEGSLQKRGIVEQCCTSICSLYQLENYCN\"\n",
    "w = \"MALWTRLLPLLALLALWAPAPAQAFVNQHLCGSHLVEALYLVCGERGFFYTPKARREAENPQAGAVELGGGLGGLQALALEGPPQKRGIVEQCCTSICSLYQLENYCN\"\n",
    "\n",
    "def findLCS(v, w):\n",
    "    score = zeros((len(v)+1,len(w)+1), dtype=\"int32\")\n",
    "    backt = zeros((len(v)+1,len(w)+1), dtype=\"int32\")\n",
    "    for i in range(1,len(v)+1):\n",
    "        for j in range(1,len(w)+1):\n",
    "            # find best score at each vertex\n",
    "            if (v[i-1] == w[j-1]):  # test for a match (\"diagonal street\")\n",
    "                score[i,j], backt[i,j] = max((score[i-1,j-1]+1,3), (score[i-1,j],1), (score[i,j-1],2))\n",
    "            else:\n",
    "                score[i,j], backt[i,j] = max((score[i-1,j],1), (score[i,j-1],2))\n",
    "    return score, backt\n",
    "\n",
    "s, b = findLCS(human, pig)\n",
    "\n",
    "def LCS(b,v,i,j):\n",
    "    if ((i == 0) and (j == 0)):\n",
    "        return ''\n",
    "    elif (b[i,j] == 3):\n",
    "        return LCS(b,v,i-1,j-1) + v[i-1]\n",
    "    elif (b[i,j] == 2):\n",
    "        return LCS(b,v,i,j-1)\n",
    "    else:\n",
    "        return LCS(b,v,i-1,j)\n",
    "        \n",
    "print(LCS(b,v,b.shape[0]-1,b.shape[1]-1))\n",
    "\n",
    "x = LCS(b,v,b.shape[0]-1,b.shape[1]-1)\n",
    "print(len(x))\n",
    "\n",
    "def Alignment(b,v,w,i,j):\n",
    "    if ((i == 0) and (j == 0)):\n",
    "        return ['','']\n",
    "    if (b[i,j] == 3):\n",
    "        result = Alignment(b,v,w,i-1,j-1)\n",
    "        result[0] += v[i-1]\n",
    "        result[1] += w[j-1]\n",
    "        return result\n",
    "    if (b[i,j] == 2):\n",
    "        result = Alignment(b,v,w,i,j-1)\n",
    "        result[0] += \"_\"\n",
    "        result[1] += w[j-1]\n",
    "        return result\n",
    "    if (b[i,j] == 1):\n",
    "        result = Alignment(b,v,w,i-1,j)\n",
    "        result[0] += v[i-1]\n",
    "        result[1] += \"_\"\n",
    "        return result\n",
    "\n",
    "align = Alignment(b,v,w,b.shape[0]-1,b.shape[1]-1)\n",
    "print(\"v =\", align[0])\n",
    "print(\"w =\", align[1])\n",
    "\n",
    "import numpy\n",
    "\n",
    "def GlobalAlign(v, w, match, indel):\n",
    "    s = numpy.zeros((len(v)+1,len(w)+1), dtype=\"int32\")\n",
    "    b = numpy.zeros((len(v)+1,len(w)+1), dtype=\"int32\")\n",
    "    scores = 0\n",
    "    for i in range(0,len(v)+1):\n",
    "        for j in range(0,len(w)+1):\n",
    "            if (j == 0):\n",
    "                if (i > 0):\n",
    "                    s[i,j] = s[i-1,j] + indel\n",
    "                    b[i,j] = 1\n",
    "                    scores+= indel\n",
    "                continue\n",
    "            if (i == 0):\n",
    "                s[i,j] = s[i,j-1] + indel\n",
    "                b[i,j] = 2\n",
    "                scores += indel\n",
    "                continue\n",
    "            if (v[i-1] == w[j-1]): \n",
    "                score = s[i-1,j-1] + match\n",
    "                scores += match\n",
    "            else:\n",
    "                score = s[i-1,j-1] - 108\n",
    "                scores -= 108\n",
    "            vskip = s[i-1,j] + indel\n",
    "            wskip = s[i,j-1] + indel\n",
    "            s[i,j] = max(vskip, wskip, score)\n",
    "            if (s[i,j] == vskip):\n",
    "                b[i,j] = 1\n",
    "            elif (s[i,j] == wskip):\n",
    "                b[i,j] = 2\n",
    "            else:\n",
    "                b[i,j] = 3\n",
    "    return (s, b)\n",
    "\n",
    "s_other, b_other = GlobalAlign(align[0],align[1], 1, -1)\n",
    "print(s_other)\n",
    "print(\"Best score =\", s_other[-1,-1])\n",
    "print(b_other)\n",
    "print(scores)\n",
    "\n",
    "\n"
   ]
  },
  {
   "cell_type": "markdown",
   "metadata": {
    "number": 3,
    "section": "problem"
   },
   "source": [
    "**Problem #3:** According to the rules of the \"Alignment Game\", what score does your alignment from **Problem 1** achieve? How would the rules of the alignment game need to be changed so that your solution for **Problem 1** would be the optimal answer?"
   ]
  },
  {
   "cell_type": "raw",
   "metadata": {
    "number": 3,
    "section": "answer"
   },
   "source": [
    "Score of LCS alignment in game: 50\n",
    "Write below the rule change for which the LCS alignment would be optimal: The mismatch penality is minus the length of the longest string, which is pig insulin in this case which is a length of 108"
   ]
  },
  {
   "cell_type": "code",
   "execution_count": 20,
   "metadata": {},
   "outputs": [
    {
     "name": "stdout",
     "output_type": "stream",
     "text": [
      "33\n",
      "LLLLALPQLSLEAERTKTREAELSLQPLALLLL\n",
      "77\n"
     ]
    }
   ],
   "source": [
    "from numpy import *\n",
    "\n",
    "def findLCS(v, w):\n",
    "    score = zeros((len(v)+1,len(w)+1), dtype=\"int32\")\n",
    "    backt = zeros((len(v)+1,len(w)+1), dtype=\"int32\")\n",
    "    for i in range(1,len(v)+1):\n",
    "        for j in range(1,len(w)+1):\n",
    "            # find best score at each vertex\n",
    "            if (v[i-1] == w[j-1]):  # test for a match (\"diagonal street\")\n",
    "                score[i,j], backt[i,j] = max((score[i-1,j-1]+1,3), (score[i-1,j],1), (score[i,j-1],2))\n",
    "            else:\n",
    "                score[i,j], backt[i,j] = max((score[i-1,j],1), (score[i,j-1],2))\n",
    "    return score, backt\n",
    "\n",
    "human = \"MALWMRLLPLLALLALWGPDPAAAFVNQHLCGSHLVEALYLVCGERGFFYTPKTRREAEDLQGSLQPLALEGSLQKRGIVEQCCTSICSLYQLENYCN\"\n",
    "human_reverse = human[-1::-1]\n",
    "sr, br = findLCS(human, human_reverse)\n",
    "\n",
    "\n",
    "def LCS(b,v,i,j):\n",
    "    if ((i == 0) and (j == 0)):\n",
    "        return ''\n",
    "    elif (b[i,j] == 3):\n",
    "        return LCS(b,v,i-1,j-1) + v[i-1]\n",
    "    elif (b[i,j] == 2):\n",
    "        return LCS(b,v,i,j-1)\n",
    "    else:\n",
    "        return LCS(b,v,i-1,j)\n",
    "    \n",
    "\n",
    "lcs_rev = LCS(br,human,br.shape[0]-1,br.shape[1]-1)\n",
    "print(len(lcs_rev))\n",
    "print(lcs_rev)\n",
    "print(ord(\"M\"))"
   ]
  },
  {
   "cell_type": "markdown",
   "metadata": {
    "number": 4,
    "section": "problem"
   },
   "source": [
    "---\n",
    "**Problem #4:** Find the length of the longest common subsequence of the human insulin sequence with the same sequence reversed."
   ]
  },
  {
   "cell_type": "raw",
   "metadata": {
    "number": 4,
    "section": "answer"
   },
   "source": [
    "Length: 33\n",
    "Enter your subsequence here: LLLLALPQLSLEAERTKTREAELSLQPLALLLL"
   ]
  },
  {
   "cell_type": "code",
   "execution_count": 11,
   "metadata": {},
   "outputs": [
    {
     "name": "stdout",
     "output_type": "stream",
     "text": [
      "[[  0  -1  -2 ... -96 -97 -98]\n",
      " [ -1   0  -1 ... -94 -95 -96]\n",
      " [ -2  -1  -1 ... -93 -93 -94]\n",
      " ...\n",
      " [-96 -94 -92 ... -48 -49 -50]\n",
      " [-97 -95 -93 ... -48 -49 -50]\n",
      " [-98 -96 -94 ... -49 -49 -49]]\n",
      "Best score = -49\n",
      "[[0 2 2 ... 2 2 2]\n",
      " [1 3 2 ... 2 2 2]\n",
      " [1 1 3 ... 2 3 2]\n",
      " ...\n",
      " [1 1 1 ... 2 2 2]\n",
      " [1 1 1 ... 3 2 2]\n",
      " [1 1 1 ... 1 3 3]]\n",
      "human        = MALWMRLLPLLALLALWGPDPAAAFVNQHLCGSHLVEALY_LVCGERG_F_FY_T_PKTRREA_EDLQGS_LQPLA__LEGS__L_QKRGIVEQCCTSICSLY__QLE_NYC_N\n",
      "human_reverse= NCY_NEL_QYLSCISTCCQEVI__GRKQ_LSGE_L__ALPQLS_G_QLDEAERRTKP_TYFFGRE___GCVLY_LAEVL_HSGCLHQNVFAAAPDPGWLALLALLPLLRMWLAM\n",
      "Best score = -53\n"
     ]
    }
   ],
   "source": [
    "import numpy\n",
    "\n",
    "def GlobalAlign(v, w, match, indel):\n",
    "    s = numpy.zeros((len(v)+1,len(w)+1), dtype=\"int32\")\n",
    "    b = numpy.zeros((len(v)+1,len(w)+1), dtype=\"int32\")\n",
    "    for i in range(0,len(v)+1):\n",
    "        for j in range(0,len(w)+1):\n",
    "            if (j == 0):\n",
    "                if (i > 0):\n",
    "                    s[i,j] = s[i-1,j] + indel\n",
    "                    b[i,j] = 1\n",
    "                continue\n",
    "            if (i == 0):\n",
    "                s[i,j] = s[i,j-1] + indel\n",
    "                b[i,j] = 2\n",
    "                continue\n",
    "            ## if theres a match\n",
    "            if (v[i-1] == w[j-1]): \n",
    "                score = s[i-1,j-1] + match\n",
    "            ## if they're adjecent\n",
    "            elif ((ord(v[i-1]) + 1) == ord(w[j-1]) or (ord(v[i-1]) - 1) == ord(w[j-1])):\n",
    "                score = s[i-1,j-1] \n",
    "            else:\n",
    "                score = s[i-1,j-1] - 1\n",
    "            vskip = s[i-1,j] + indel\n",
    "            wskip = s[i,j-1] + indel\n",
    "            s[i,j] = max(vskip, wskip, score)\n",
    "            if (s[i,j] == vskip):\n",
    "                b[i,j] = 1\n",
    "            elif (s[i,j] == wskip):\n",
    "                b[i,j] = 2\n",
    "            else:\n",
    "                b[i,j] = 3\n",
    "    return (s, b)\n",
    "\n",
    "def Alignment(b,v,w,i,j):\n",
    "    if ((i == 0) and (j == 0)):\n",
    "        return ['','']\n",
    "    if (b[i,j] == 3):\n",
    "        result = Alignment(b,v,w,i-1,j-1)\n",
    "        result[0] += v[i-1]\n",
    "        result[1] += w[j-1]\n",
    "        return result\n",
    "    if (b[i,j] == 2):\n",
    "        result = Alignment(b,v,w,i,j-1)\n",
    "        result[0] += \"_\"\n",
    "        result[1] += w[j-1]\n",
    "        return result\n",
    "    if (b[i,j] == 1):\n",
    "        result = Alignment(b,v,w,i-1,j)\n",
    "        result[0] += v[i-1]\n",
    "        result[1] += \"_\"\n",
    "        return result\n",
    "\n",
    "match = {('A','A'):  1, ('A','C'): -2, ('A','G'): -1, ('A','T'): -2,\n",
    "         ('C','A'): -2, ('C','C'):  1, ('C','G'): -2, ('C','T'): -1,\n",
    "         ('G','A'): -1, ('G','C'): -2, ('G','G'):  1, ('G','T'): -2,\n",
    "         ('T','A'): -2, ('T','C'): -1, ('T','G'): -2, ('T','T'):  1}\n",
    "\n",
    "\n",
    "human = \"MALWMRLLPLLALLALWGPDPAAAFVNQHLCGSHLVEALYLVCGERGFFYTPKTRREAEDLQGSLQPLALEGSLQKRGIVEQCCTSICSLYQLENYCN\"\n",
    "human_reverse = human[-1::-1]\n",
    "\n",
    "s, b = GlobalAlign(human,human_reverse, 1, -1)\n",
    "print(s)\n",
    "print(\"Best score =\", s[-1,-1])\n",
    "print(b)\n",
    "align = Alignment(b,human,human_reverse,b.shape[0]-1,b.shape[1]-1)\n",
    "print(\"human        =\", align[0])\n",
    "print(\"human_reverse=\", align[1])\n",
    "\n",
    "## spliting the human string before and after the constraint\n",
    "human_pre = human[:human.index('EAE')]\n",
    "human_suf = human[human.index('EAE'):]\n",
    "\n",
    "##splitting the reverse string before and after the constraint\n",
    "rev_pre = human_reverse[:human_reverse.index('EAE')]\n",
    "rev_suf = human_reverse[human_reverse.index('EAE'):]\n",
    "\n",
    "## two different allignments\n",
    "s_pre, b_pre = GlobalAlign(human_pre,rev_pre, 1, -1)\n",
    "pre_align = Alignment(b_pre, human_pre, rev_pre, b_pre.shape[0]-1, b_pre.shape[1]-1)\n",
    "\n",
    "s_suf, b_suf = GlobalAlign(human_suf,rev_suf, 1, -1)\n",
    "suf_align = Alignment(b_suf, human_suf, rev_suf, b_suf.shape[0]-1, b_suf.shape[1]-1)\n",
    "\n",
    "## best score with constraints\n",
    "print(\"Best score =\", s_pre[-1,-1] + s_suf[-1,-1])\n"
   ]
  },
  {
   "cell_type": "markdown",
   "metadata": {
    "number": 5,
    "section": "problem"
   },
   "source": [
    "**Problem #5:** Find an optimal *global alignment* between the human insulin sequence and the human insulin sequence reversed using the following scoring:\n",
    "\n",
    "* +1 for a match\n",
    "* 0 if the peptides are adjacent alphabetically (i.e. 'M' is adjacent to both 'L' and 'N')\n",
    "* -1 for all other mismatches\n",
    "* -1 for an indel\n",
    "\n",
    "Provide the alignment's score and the alignment itself.\n",
    "\n",
    "Find an alternate optimal alignment for these sequences that uses the same scoring function but is constrained to match the substring 'EAE', which appears exactly once in each sequence and give its score."
   ]
  },
  {
   "cell_type": "raw",
   "metadata": {
    "number": 5,
    "section": "answer"
   },
   "source": [
    "Alignment score: -49\n",
    "   human: MALWMRLLPLLALLALWGPDPAAAFVNQHLCGSHLVEALY_LVCGERG_F_FY_T_PKTRREA_EDLQGS_LQPLA__LEGS__L_QKRGIVEQCCTSICSLY__QLE_NYC_N\n",
    "reversed: NCY_NEL_QYLSCISTCCQEVI__GRKQ_LSGE_L__ALPQLS_G_QLDEAERRTKP_TYFFGRE___GCVLY_LAEVL_HSGCLHQNVFAAAPDPGWLALLALLPLLRMWLAM\n",
    "Constrained alignment score: -53"
   ]
  },
  {
   "cell_type": "markdown",
   "metadata": {
    "section": "submit"
   },
   "source": [
    "---\n",
    "\n",
    "## Instructions for submitting your problem set\n",
    "\n",
    "When you are ready to submit a version of your problem set, follow the instructions below.\n",
    "\n",
    "1. Press [Save and Checkpoint] on the *File* menu of your Jupyter notebook.\n",
    "2. Press the link below, which will take you to a website for submitting your problem set.\n",
    "3. Choose the ***correct problem set number*** from the pull-down, else you might overwrite an earlier submission.\n",
    "4. Enter in your onyen and PID in the form provided, then upload your submission.\n",
    "\n",
    "Click [here to submit](http://csbio.unc.edu/mcmillan/index.py?run=PS.upload) your completed problem set\n",
    "\n",
    "**Instructions for resubmissions:**\n",
    "\n",
    "1. You may resubmit as many times as you like before the deadline. \n",
    "2. Resubmissions *always* overwrite any earlier submissions. \n",
    "3. If you resubmit after the due date, you will be warned of any penalties. \n",
    "4. Problem sets will not be regraded."
   ]
  }
 ],
 "metadata": {
  "anaconda-cloud": {},
  "kernelspec": {
   "display_name": "Python 3 (ipykernel)",
   "language": "python",
   "name": "python3"
  },
  "language_info": {
   "codemirror_mode": {
    "name": "ipython",
    "version": 3
   },
   "file_extension": ".py",
   "mimetype": "text/x-python",
   "name": "python",
   "nbconvert_exporter": "python",
   "pygments_lexer": "ipython3",
   "version": "3.9.7"
  }
 },
 "nbformat": 4,
 "nbformat_minor": 1
}
