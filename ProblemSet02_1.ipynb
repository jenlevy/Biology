{
 "cells": [
  {
   "cell_type": "markdown",
   "metadata": {
    "section": "header"
   },
   "source": [
    "<div style=\"text-align: center;\">\n",
    "<h1>The University of North Carolina at Chapel Hill</h1>\n",
    "<h1>Comp 555 BioAlgorithms - Spring 2022</h1>\n",
    "<h1 style=\"font-size: 250%;\">Problem Set #2 </h1>\n",
    "<h1>Issued Thursday, 2/3/2022; Due Thursday, 2/17/2022</h1>\n",
    "</div>\n",
    "\n",
    "**Homework Information:** Some of the problems are probably too long to be done the night before the due date, so plan accordingly. Feel free to get help from others, but **the work you submit in should be your own.**\n",
    "\n",
    "**Warning:** This notebook has been annotated with metadata so that it can be uploaded to the grading system. It is very important that you enter your answers in the provided cells. Answers should be placed within the cells in the indicated region (usually after a ':'). You can add extra cells to explore approaches, but only the provided cell can and will be graded. Thus, if you delete a cell and add a replacement, there is a possiblity that your problem will not be graded. If you ever need to start over, you should download a new version of the problem set and transfer your solutions to it."
   ]
  },
  {
   "cell_type": "code",
   "execution_count": null,
   "metadata": {
    "collapsed": true,
    "section": "signature"
   },
   "outputs": [],
   "source": [
    "# Replace the following string values with the requested information\n",
    "class Student:\n",
    "    first = \"Jenna\"\n",
    "    last = \"Levy\"\n",
    "    onyen = \"jenlevy\"\n",
    "    pid = \"730280089\""
   ]
  },
  {
   "cell_type": "markdown",
   "metadata": {
    "section": "setup"
   },
   "source": [
    "You will need a the following sequence collection of 16 gene promoter regions in which you will search for <a href=\"http://csbio.unc.edu/mcmillan/Comp555S22/motifs.fa\" download=\"motifs.fa\">transcription binding factor motifs</a>.\n",
    "\n",
    "The cell below provides all functions and imports necessary for this problem set. Do not import any addtional packages. Also, make sure that you ***run the following cell***."
   ]
  },
  {
   "cell_type": "code",
   "execution_count": 1,
   "metadata": {
    "section": "givencode"
   },
   "outputs": [],
   "source": [
    "import itertools\n",
    "import math\n",
    "%matplotlib inline\n",
    "import matplotlib\n",
    "import matplotlib.pyplot as plt\n",
    "\n",
    "def loadFasta(filename):\n",
    "    \"\"\" Parses a classically formatted and possibly \n",
    "        compressed FASTA file into two lists. One of \n",
    "        headers and a second list of sequences.\n",
    "        The ith index of each list correspond.\"\"\"\n",
    "    if (filename.endswith(\".gz\")):\n",
    "        fp = gzip.open(filename, 'r')\n",
    "    else:\n",
    "        fp = open(filename, 'r')\n",
    "    # split at headers\n",
    "    data = fp.read().split('>')\n",
    "    fp.close()\n",
    "    # ignore whatever appears before the 1st header\n",
    "    data.pop(0)     \n",
    "    headers = []\n",
    "    sequences = []\n",
    "    for sequence in data:\n",
    "        lines = sequence.split('\\n')\n",
    "        headers.append(lines.pop(0))\n",
    "        # add an extra \"+\" to make string \"1-referenced\"\n",
    "        sequences.append('+' + ''.join(lines))\n",
    "    return (headers, sequences)\n",
    "\n",
    "def ScanAndScoreMotif(DNA, motif):\n",
    "    totalDist = 0\n",
    "    bestAlignment = []\n",
    "    k = len(motif)\n",
    "    for seq in DNA:\n",
    "        minHammingDist = k+1\n",
    "        for s in range(len(seq)-k+1):\n",
    "            HammingDist = sum([1 for i in range(k) if motif[i] != seq[s+i]])\n",
    "            if (HammingDist < minHammingDist):\n",
    "                bestS = s\n",
    "                minHammingDist = HammingDist\n",
    "        bestAlignment.append(bestS)\n",
    "        totalDist += minHammingDist\n",
    "    return bestAlignment, totalDist\n",
    "\n",
    "def MedianStringMotifSearch(DNA,k):\n",
    "    \"\"\" Consider all possible 4**k motifs\"\"\"\n",
    "    bestAlignment = []\n",
    "    minHammingDist = k*len(DNA)\n",
    "    kmer = ''\n",
    "    for pattern in itertools.product('ACGT', repeat=k):\n",
    "        motif = ''.join(pattern)\n",
    "        align, dist = ScanAndScoreMotif(DNA, motif)\n",
    "        if (dist < minHammingDist):\n",
    "            bestAlignment = [p for p in align]\n",
    "            minHammingDist = dist\n",
    "            kmer = motif\n",
    "    return bestAlignment, minHammingDist, kmer\n",
    "\n",
    "def ContainedMotifSearch(DNA,k):\n",
    "    \"\"\" Consider only motifs from the given DNA sequences\"\"\"\n",
    "    motifSet = set()\n",
    "    for seq in DNA:\n",
    "        for i in range(len(seq)-k+1):\n",
    "            motifSet.add(seq[i:i+k])\n",
    "    print(\"%d Motifs in our set\" % len(motifSet))\n",
    "    bestAlignment = []\n",
    "    minHammingDist = k*len(DNA)\n",
    "    kmer = ''\n",
    "    for motif in motifSet:\n",
    "        align, dist = ScanAndScoreMotif(DNA, motif)\n",
    "        if (dist < minHammingDist):\n",
    "            bestAlignment = [s for s in align]\n",
    "            minHammingDist = dist\n",
    "            kmer = motif\n",
    "    return bestAlignment, minHammingDist, kmer"
   ]
  },
  {
   "cell_type": "markdown",
   "metadata": {
    "number": 1,
    "section": "problem"
   },
   "source": [
    "---\n",
    "**Problem #1:** (15 points) In the cell below use the given *MedianStringMotifSearch()*, and *ScanAndScoreMotif()* functions to find an optimal 9-base motif pattern and its location in each of the 16 given promoter regions in <a href=\"http://csbio.unc.edu/mcmillan/Comp555S22/motifs.fa\" download=\"motifs.fa\">motifs.fa</a>. Based on this result, make a prediction of how long it would have taken to find an optimal 11-base motif (Hint: This will take some time)."
   ]
  },
  {
   "cell_type": "code",
   "execution_count": 9,
   "metadata": {
    "number": 1,
    "section": "workcode"
   },
   "outputs": [
    {
     "name": "stdout",
     "output_type": "stream",
     "text": [
      "Wall time: 29min 21s\n"
     ]
    },
    {
     "data": {
      "text/plain": [
       "([64, 29, 123, 56, 34, 93, 32, 82, 87, 120, 75, 50, 104, 26, 19, 33],\n",
       " 13,\n",
       " 'GACGTACAG')"
      ]
     },
     "execution_count": 9,
     "metadata": {},
     "output_type": "execute_result"
    }
   ],
   "source": [
    "# Read in the motifs.fa FASTA file and use its sequence \n",
    "# list as \"DNA\" and run the given code fragment.\n",
    "headers, DNA = loadFasta(\"motifs.fa\")\n",
    "%time MedianStringMotifSearch(DNA, 9) "
   ]
  },
  {
   "cell_type": "raw",
   "metadata": {
    "number": 1,
    "section": "answer"
   },
   "source": [
    "# THIS CELL WILL BE GRADED. \n",
    "Paste below the output from the cell above: \n",
    "Wall time: 29min 21s\n",
    "\n",
    "([64, 29, 123, 56, 34, 93, 32, 82, 87, 120, 75, 50, 104, 26, 19, 33],\n",
    " 13,\n",
    " 'GACGTACAG')\n",
    "What is your prediction of how long it would take to find an 11-base motif: 469 minutes and 36 seconds, or rather 7 hours, 44 minutes, and 36 seconds. "
   ]
  },
  {
   "cell_type": "raw",
   "metadata": {
    "number": 2,
    "section": "problem"
   },
   "source": [
    "# **Problem #2:** (15 points) Given the optimal 9-base motif from **Problem #1** find a tight upper bound on the minHammingDist for the optimal 11-base motif. Explain how you arrived at your answer."
   ]
  },
  {
   "cell_type": "raw",
   "metadata": {
    "number": 2,
    "section": "answer"
   },
   "source": [
    "# THIS CELL WILL BE GRADED. \n",
    "What is the largest possible minHammingDist for an 11-base motif given the best 9-base motif?: 37\n",
    "Explain your answer: There are 16 strings in motifs.fa which makes the concensus number 4. This would mean the hamming distance is 12, and the hamming distance from problem 1 is 13 so adding the distances (12+12+13) would be equal to 37."
   ]
  },
  {
   "cell_type": "markdown",
   "metadata": {
    "number": 3,
    "section": "problem"
   },
   "source": [
    "**Problem #3:** (15 points) Use *ContainedMotifSearch()* to identify a candidate 11-base motif. Report the running time and minHammingDist for this solution."
   ]
  },
  {
   "cell_type": "code",
   "execution_count": 10,
   "metadata": {
    "scrolled": true
   },
   "outputs": [
    {
     "name": "stdout",
     "output_type": "stream",
     "text": [
      "2190 Motifs in our set\n",
      "Wall time: 7.69 s\n"
     ]
    },
    {
     "data": {
      "text/plain": [
       "([61, 26, 120, 53, 31, 90, 29, 79, 84, 117, 72, 47, 101, 23, 16, 30],\n",
       " 26,\n",
       " 'GGTGACGTACA')"
      ]
     },
     "execution_count": 10,
     "metadata": {},
     "output_type": "execute_result"
    }
   ],
   "source": [
    "%time ContainedMotifSearch(DNA, 11)"
   ]
  },
  {
   "cell_type": "raw",
   "metadata": {
    "collapsed": true,
    "number": 3,
    "section": "answer"
   },
   "source": [
    "# THIS CELL WILL BE GRADED\n",
    "What was the execution time for ContainedMotifSearch(DNA, 11)?: 7.69 seconds\n",
    "What was the minHammingDist found?: 26"
   ]
  },
  {
   "cell_type": "markdown",
   "metadata": {
    "number": 4,
    "section": "problem"
   },
   "source": [
    "**Problem #4:** (15 points) Write a variant of ContainedMotifSearch(DNA, k) called HammingMotifSearch(DNA, k) that considers all contained k-mers from the given DNA as well as all k-mers that are a Hamming distance of one from a contained k-mer. "
   ]
  },
  {
   "cell_type": "code",
   "execution_count": 46,
   "metadata": {
    "number": 4,
    "section": "answer"
   },
   "outputs": [
    {
     "name": "stdout",
     "output_type": "stream",
     "text": [
      "72940 Motifs in our set\n",
      "Wall time: 5min 45s\n"
     ]
    },
    {
     "data": {
      "text/plain": [
       "([62, 27, 121, 54, 32, 91, 30, 80, 85, 118, 73, 48, 102, 24, 17, 31],\n",
       " 16,\n",
       " 'GTGACGTACAG')"
      ]
     },
     "execution_count": 46,
     "metadata": {},
     "output_type": "execute_result"
    }
   ],
   "source": [
    "# THIS CELL WILL BE GRADED\n",
    "# Your function can call the given ScanAndScoreMotif() function\n",
    "# any other functions called must be defined in this cell\n",
    "\n",
    "def HammingMotifSearch(DNA,k):\n",
    "    \n",
    "    motifSet = set()\n",
    "    for seq in DNA:\n",
    "        for i in range(len(seq)-k+1):\n",
    "            motifSet.add(seq[i:i+k])\n",
    "            ##enumerating through motif each time the for loop runs\n",
    "            for j, base in enumerate(seq[i:i+k]):\n",
    "                ##looping through every possible Nucleotide at a given base in the given kmer\n",
    "                for alt in \"AGCT\":\n",
    "                    if alt != base:\n",
    "                        ##adding every kmer of a hamming distance of one to the motif set\n",
    "                        motifSet.add((seq[i:i+k])[:j] + alt + (seq[i:i+k][j+1:]))\n",
    "            \n",
    "    print(\"%d Motifs in our set\" % len(motifSet))\n",
    "    bestAlignment = []\n",
    "    minHammingDist = k*len(DNA)\n",
    "    kmer = ''\n",
    "    for motif in motifSet:\n",
    "        align, dist = ScanAndScoreMotif(DNA, motif)\n",
    "        if (dist < minHammingDist):\n",
    "            bestAlignment = [s for s in align]\n",
    "            minHammingDist = dist\n",
    "            kmer = motif\n",
    "            \n",
    "    return bestAlignment, minHammingDist, kmer\n",
    "\n",
    "%time HammingMotifSearch(DNA,11)"
   ]
  },
  {
   "cell_type": "markdown",
   "metadata": {
    "number": 5,
    "section": "problem"
   },
   "source": [
    "**Problem #5:** (40 points) How many more k-mers are considered by *HammingMotifSearch()* than *ContainedMotifSearch()* in this specific instance? What is the upperbound of the increase in considered k-mer set sizes between these two approachs for any given data set with N contained k-mers? What is the maximum Hamming distance between any two distinct k-mers that are a Hamming distance of 1 from a given contained k-mer? Suppose that you were to modify *HammingMotifSearch()* to also include all k-mers that are a Hamming distance of 1 and 2 from each contained k-mer. How many additional k-mers might this approach consider beyond the N k-mers from the original *ContainedMotifSearch()* in the worse case? "
   ]
  },
  {
   "cell_type": "raw",
   "metadata": {
    "number": 5,
    "section": "answer"
   },
   "source": [
    "# THIS CELL WILL BE GRADED.\n",
    "How many more k-mers are considered by HammingMotifSearch() than ContainedMotifSearch(): 70,750 more kmers\n",
    "Upper bound on the number of addtional k-mers that HammingMotifSearch() might consider given that ContainedMotifSearch() considers N in terms of N and k?: 3*N*k\n",
    "The maximum Hamming distance between two distinct k-mers where each is a known Hamming distance of 1 from a given k-mer?: 2\n",
    "The maximum number of k-mers that will be considered if all k-mers within a Hamming distance of 1 or 2 from the N contained k-mers are included of N and k?: 3*N*k + (9*N*k*(k-1))/2"
   ]
  },
  {
   "cell_type": "markdown",
   "metadata": {
    "section": "submit"
   },
   "source": [
    "---\n",
    "\n",
    "## Instructions for submitting your problem set\n",
    "\n",
    "When you are ready to submit a version of your problem set, follow the instructions below.\n",
    "\n",
    "1. Press [Save and Checkpoint] on the *File* menu of your Jupyter notebook.\n",
    "2. Press the link below, which will take you to a website for submitting your problem set.\n",
    "3. Choose the ***correct problem set number*** from the pull-down, else you might overwrite an earlier submission.\n",
    "4. Enter in your onyen and PID in the form provided, then upload your submission.\n",
    "\n",
    "Click [here to submit](http://csbio.unc.edu/mcmillan/index.py?run=PS.upload) your completed problem set\n",
    "\n",
    "**Instructions for resubmissions:**\n",
    "\n",
    "1. You may resubmit as many times as you like before the deadline. \n",
    "2. Resubmissions *always* overwrite any earlier submissions. \n",
    "3. If you resubmit after the due date, you will be warned of any penalties. \n",
    "4. Problem sets will not be regraded."
   ]
  }
 ],
 "metadata": {
  "kernelspec": {
   "display_name": "Python 3 (ipykernel)",
   "language": "python",
   "name": "python3"
  },
  "language_info": {
   "codemirror_mode": {
    "name": "ipython",
    "version": 3
   },
   "file_extension": ".py",
   "mimetype": "text/x-python",
   "name": "python",
   "nbconvert_exporter": "python",
   "pygments_lexer": "ipython3",
   "version": "3.9.7"
  }
 },
 "nbformat": 4,
 "nbformat_minor": 1
}
